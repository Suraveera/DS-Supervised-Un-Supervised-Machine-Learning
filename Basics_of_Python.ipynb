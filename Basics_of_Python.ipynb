{
  "nbformat": 4,
  "nbformat_minor": 0,
  "metadata": {
    "colab": {
      "provenance": []
    },
    "kernelspec": {
      "name": "python3",
      "display_name": "Python 3"
    },
    "language_info": {
      "name": "python"
    }
  },
  "cells": [
    {
      "cell_type": "markdown",
      "source": [
        "# Exercise 1: Prime Numbers"
      ],
      "metadata": {
        "id": "Si2Z4Aj7XRf_"
      }
    },
    {
      "cell_type": "code",
      "source": [
        "def is_prime(number):\n",
        "\n",
        "    if number <= 1:\n",
        "        return False\n",
        "\n",
        "    for i in range(2, int(number**0.5) + 1):\n",
        "        if number % i == 0:\n",
        "            return False\n",
        "    return True\n",
        "\n",
        "\n",
        "num = int(input(\"Enter a number: \"))\n",
        "\n",
        "if is_prime(num):\n",
        "    print(f\"{num} is a prime number.\")\n",
        "else:\n",
        "    print(f\"{num} is not a prime number.\")\n"
      ],
      "metadata": {
        "id": "ixGaOSCFXa2M",
        "colab": {
          "base_uri": "https://localhost:8080/"
        },
        "outputId": "cfb11621-f1bb-47a5-dea3-dcb4701398e5"
      },
      "execution_count": 6,
      "outputs": [
        {
          "output_type": "stream",
          "name": "stdout",
          "text": [
            "Enter a number: 6\n",
            "6 is not a prime number.\n"
          ]
        }
      ]
    },
    {
      "cell_type": "markdown",
      "source": [
        "# Explanation:\n",
        "\n",
        "1. The function is_prime takes an integer number as input and checks if it's a prime.\n",
        "\n",
        "2. If the number is less than or equal to 1, it's not a prime number.\n",
        "\n",
        "3. For numbers greater than 1, the program checks if any number between 2 and the square root of the given number divides it evenly (without a remainder). If it finds a divisor, the number is not prime.\n",
        "\n",
        "4. If no divisors are found, the number is prime."
      ],
      "metadata": {
        "id": "j3j_B-OJX6jp"
      }
    },
    {
      "cell_type": "markdown",
      "source": [
        "# Exercise 2: Product of Random Numbers"
      ],
      "metadata": {
        "id": "84f5YiKTa3hM"
      }
    },
    {
      "cell_type": "code",
      "source": [
        "import random\n",
        "\n",
        "def multiplication_quiz():\n",
        "    num1 = random.randint(1, 10)\n",
        "    num2 = random.randint(1, 10)\n",
        "\n",
        "    print(f\"What is {num1} * {num2}?\")\n",
        "    user_answer = int(input(\"Enter your answer: \"))\n",
        "\n",
        "    correct_answer = num1 * num2\n",
        "\n",
        "    if user_answer == correct_answer:\n",
        "        print(\"Correct! Great job!\")\n",
        "    else:\n",
        "        print(f\"Incorrect. The correct answer is {correct_answer}.\")\n",
        "\n",
        "multiplication_quiz()\n"
      ],
      "metadata": {
        "id": "53g7rN5MXdzF",
        "colab": {
          "base_uri": "https://localhost:8080/"
        },
        "outputId": "02726605-a540-418d-97d5-f2e7eefcc4f1"
      },
      "execution_count": 8,
      "outputs": [
        {
          "output_type": "stream",
          "name": "stdout",
          "text": [
            "What is 10 * 10?\n",
            "Enter your answer: 20\n",
            "Incorrect. The correct answer is 100.\n"
          ]
        }
      ]
    },
    {
      "cell_type": "markdown",
      "source": [
        "# Explanatin\n",
        "1. Two random integers between 1 and 10 are generated using random.randint().\n",
        "\n",
        "2. The program asks the user to calculate the product of the two numbers.\n",
        "\n",
        "3. It checks the user's input against the correct answer.\n",
        "\n",
        "4. If the user's input matches the correct answer, it prints a success message. Otherwise, it shows the correct answer."
      ],
      "metadata": {
        "id": "FtnKcPuVaa_L"
      }
    },
    {
      "cell_type": "markdown",
      "source": [
        "# Exercise 3: Squares of Even/Odd Numbers"
      ],
      "metadata": {
        "id": "j6OR-3zvcmC1"
      }
    },
    {
      "cell_type": "code",
      "source": [
        "for num in range(100, 201):\n",
        "    if num % 2 == 0:\n",
        "        print(f\"The square of {num} is {num**2}\")\n"
      ],
      "metadata": {
        "id": "28Xd0VQOZUPV",
        "colab": {
          "base_uri": "https://localhost:8080/"
        },
        "outputId": "7f2dedd3-6ff2-49bc-ad5e-789ba8b8a28a"
      },
      "execution_count": 14,
      "outputs": [
        {
          "output_type": "stream",
          "name": "stdout",
          "text": [
            "The square of 100 is 10000\n",
            "The square of 102 is 10404\n",
            "The square of 104 is 10816\n",
            "The square of 106 is 11236\n",
            "The square of 108 is 11664\n",
            "The square of 110 is 12100\n",
            "The square of 112 is 12544\n",
            "The square of 114 is 12996\n",
            "The square of 116 is 13456\n",
            "The square of 118 is 13924\n",
            "The square of 120 is 14400\n",
            "The square of 122 is 14884\n",
            "The square of 124 is 15376\n",
            "The square of 126 is 15876\n",
            "The square of 128 is 16384\n",
            "The square of 130 is 16900\n",
            "The square of 132 is 17424\n",
            "The square of 134 is 17956\n",
            "The square of 136 is 18496\n",
            "The square of 138 is 19044\n",
            "The square of 140 is 19600\n",
            "The square of 142 is 20164\n",
            "The square of 144 is 20736\n",
            "The square of 146 is 21316\n",
            "The square of 148 is 21904\n",
            "The square of 150 is 22500\n",
            "The square of 152 is 23104\n",
            "The square of 154 is 23716\n",
            "The square of 156 is 24336\n",
            "The square of 158 is 24964\n",
            "The square of 160 is 25600\n",
            "The square of 162 is 26244\n",
            "The square of 164 is 26896\n",
            "The square of 166 is 27556\n",
            "The square of 168 is 28224\n",
            "The square of 170 is 28900\n",
            "The square of 172 is 29584\n",
            "The square of 174 is 30276\n",
            "The square of 176 is 30976\n",
            "The square of 178 is 31684\n",
            "The square of 180 is 32400\n",
            "The square of 182 is 33124\n",
            "The square of 184 is 33856\n",
            "The square of 186 is 34596\n",
            "The square of 188 is 35344\n",
            "The square of 190 is 36100\n",
            "The square of 192 is 36864\n",
            "The square of 194 is 37636\n",
            "The square of 196 is 38416\n",
            "The square of 198 is 39204\n",
            "The square of 200 is 40000\n"
          ]
        }
      ]
    },
    {
      "cell_type": "markdown",
      "source": [
        "# Explanation:\n",
        "1. We loop through the numbers from 100 to 200 using range(100, 201) (the upper bound 201 is exclusive).\n",
        "\n",
        "2. We check if a number is even using num % 2 == 0.\n",
        "\n",
        "3. If the number is even, we print its square by calculating num**2.\n",
        "\n",
        "4. You can easily modify this to work for odd numbers by changing the condition in the if statement to num % 2 != 0."
      ],
      "metadata": {
        "id": "fyxvJNQZcvGH"
      }
    },
    {
      "cell_type": "markdown",
      "source": [
        "# Exercise 4: Word counter"
      ],
      "metadata": {
        "id": "UjG96vSHeUqh"
      }
    },
    {
      "cell_type": "code",
      "source": [
        "def count_words(text):\n",
        "    words = text.split()\n",
        "    return len(words)\n",
        "user_text = input(\"Enter your text: \")\n",
        "\n",
        "word_count = count_words(user_text)\n",
        "\n",
        "print(f\"The number of words in the given text is: {word_count}\")\n"
      ],
      "metadata": {
        "colab": {
          "base_uri": "https://localhost:8080/"
        },
        "id": "3adGlHQVc2Ov",
        "outputId": "8c134cea-8e73-4ae2-cd0c-da73b39bac4e"
      },
      "execution_count": 16,
      "outputs": [
        {
          "output_type": "stream",
          "name": "stdout",
          "text": [
            "Enter your text: hello\n",
            "The number of words in the given text is: 1\n"
          ]
        }
      ]
    },
    {
      "cell_type": "markdown",
      "source": [
        "# Explanation\n",
        "1. The function count_words splits the input text into words using the split() method, which by default splits by spaces.\n",
        "\n",
        "2. The number of words is simply the length of the list returned by split().\n",
        "\n",
        "3. The program takes user input, counts the words, and prints the result."
      ],
      "metadata": {
        "id": "E6rn1hqhd7KJ"
      }
    },
    {
      "cell_type": "markdown",
      "source": [
        "# Exercise 5: Check for Palindrome"
      ],
      "metadata": {
        "id": "4liQRt_jgA4g"
      }
    },
    {
      "cell_type": "code",
      "source": [
        "import string\n",
        "\n",
        "def is_palindrome(s):\n",
        "    s = s.lower()\n",
        "\n",
        "    cleaned_s = ''.join(char for char in s if char.isalnum())\n",
        "\n",
        "    return cleaned_s == cleaned_s[::-1]\n",
        "\n",
        "input_string = input(\"Enter a string: \")\n",
        "if is_palindrome(input_string):\n",
        "    print(\"The string is a palindrome.\")\n",
        "else:\n",
        "    print(\"The string is not a palindrome.\")\n"
      ],
      "metadata": {
        "colab": {
          "base_uri": "https://localhost:8080/"
        },
        "id": "5DjPNFzaeo2p",
        "outputId": "b702c59f-9255-4818-fa8c-2c7ff1b4432a"
      },
      "execution_count": 29,
      "outputs": [
        {
          "output_type": "stream",
          "name": "stdout",
          "text": [
            "Enter a string: Madam\n",
            "The string is a palindrome.\n"
          ]
        }
      ]
    },
    {
      "cell_type": "markdown",
      "source": [
        "# Explanation:\n",
        "1. The function converts the input string to lowercase to make the comparison case-insensitive.\n",
        "\n",
        "2. It uses a list comprehension to remove all non-alphanumeric characters, such as punctuation and spaces, keeping only letters and digits.\n",
        "\n",
        "3. The cleaned string is then compared with its reverse (cleaned_s[::-1]).\n",
        "\n",
        "4. If the cleaned string and its reverse are the same, the function returns True, meaning it’s a palindrome. Otherwise, it returns False.\n"
      ],
      "metadata": {
        "id": "-CI8GiQEgcSf"
      }
    },
    {
      "cell_type": "code",
      "source": [],
      "metadata": {
        "id": "-zMWU7v7f4Hc"
      },
      "execution_count": null,
      "outputs": []
    }
  ]
}