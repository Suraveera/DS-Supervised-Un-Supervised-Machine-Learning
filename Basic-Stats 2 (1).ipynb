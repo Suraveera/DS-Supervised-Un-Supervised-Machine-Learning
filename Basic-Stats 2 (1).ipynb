{
 "cells": [
  {
   "cell_type": "code",
   "execution_count": null,
   "id": "e53d17f0-10d2-4c69-a50a-0d18ce1f940c",
   "metadata": {},
   "outputs": [],
   "source": [
    "import numpy as np\n",
    "impot scipy.stats as stats"
   ]
  },
  {
   "cell_type": "markdown",
   "id": "814e68da-97b0-45b8-ae34-bfaf8ff1ed27",
   "metadata": {},
   "source": [
    "#### Given Data"
   ]
  },
  {
   "cell_type": "code",
   "execution_count": 17,
   "id": "ec8ea607-ab3b-4d5a-9ba3-15bbca91fd97",
   "metadata": {},
   "outputs": [],
   "source": [
    "data = np.array([1.13, 1.55, 1.43, 0.92, 1.25, 1.36, 1.32, 0.85, 1.07, 1.48, 1.20, 1.33, 1.18, 1.22, 1.29])\n",
    "n = len(data)  \n",
    "mean_sample = np.mean(data) \n",
    "std_sample = np.std(data, ddof=1) \n"
   ]
  },
  {
   "cell_type": "markdown",
   "id": "b4b27da6-0789-41f8-89bb-81d254eb6304",
   "metadata": {},
   "source": [
    "## Part A: Confidence Interval Using Sample Standard Deviation\n",
    "# 99% Confidence Interval using known population standard deviation"
   ]
  },
  {
   "cell_type": "code",
   "execution_count": 19,
   "id": "dc7e8e03-ee92-4d72-9cb9-7d1207d6640d",
   "metadata": {},
   "outputs": [
    {
     "data": {
      "text/plain": [
       "(1.0901973384384906, 1.3871359948948425)"
      ]
     },
     "execution_count": 19,
     "metadata": {},
     "output_type": "execute_result"
    }
   ],
   "source": [
    "confidence_level = 0.99\n",
    "alpha = 1 - confidence_level\n",
    "df = n - 1  \n",
    "t_crit = stats.t.ppf(1 - alpha/2, df)  \n",
    "\n",
    "margin_of_error = t_crit * (std_sample / np.sqrt(n))\n",
    "ci_lower = mean_sample - margin_of_error\n",
    "ci_upper = mean_sample + margin_of_error\n",
    "\n",
    "ci_sample_std = (ci_lower, ci_upper)\n",
    "ci_sample_std\n"
   ]
  },
  {
   "cell_type": "markdown",
   "id": "ada666ff-f247-478a-bc41-b97ce337bdd8",
   "metadata": {},
   "source": [
    "## Step-by-Step Explanation:\n",
    "1. The confidence level is 99%, so the significance level (\\( \\alpha \\)) is 1 - 0.99 = 0.01.\n",
    "2. We calculate the t-critical value for \\( n - 1 \\) degrees of freedom (14 in this case).\n",
    "3. The margin of error is calculated as \\( t_{crit} \\times \\frac{s}{\\sqrt{n}} \\), where \\( s \\) is the sample standard deviation and \\( n \\) is the sample size.\n",
    "4. The confidence interval is then given by:  \n",
    "   \\( \\left( \\bar{x} - \\text{margin of error}, \\bar{x} + \\text{margin of error} \\right) \\)\n"
   ]
  },
  {
   "cell_type": "markdown",
   "id": "c39bfa80-acbc-496f-bea1-617d0899ad5d",
   "metadata": {},
   "source": [
    "## Part B: Confidence Interval Using Known Population Standard Deviation\n",
    "# 99% Confidence Interval using known population standard deviation\n"
   ]
  },
  {
   "cell_type": "code",
   "execution_count": 9,
   "id": "74fdfaaa-af76-45e3-b878-3a4c005adb9b",
   "metadata": {},
   "outputs": [
    {
     "data": {
      "text/plain": [
       "(1.1056514133957607, 1.3716819199375725)"
      ]
     },
     "execution_count": 9,
     "metadata": {},
     "output_type": "execute_result"
    }
   ],
   "source": [
    "pop_std = 0.2  \n",
    "z_crit = stats.norm.ppf(1 - alpha/2)  # z-critical value\n",
    "\n",
    "margin_of_error_pop = z_crit * (pop_std / np.sqrt(n))\n",
    "ci_lower_pop = mean_sample - margin_of_error_pop\n",
    "ci_upper_pop = mean_sample + margin_of_error_pop\n",
    "\n",
    "ci_pop_std = (ci_lower_pop, ci_upper_pop)\n",
    "ci_pop_std\n"
   ]
  },
  {
   "cell_type": "markdown",
   "id": "58c39435-954a-4e86-b3ca-8b90179a8845",
   "metadata": {},
   "source": [
    "## Step-by-Step Explanation:\n",
    "1. The confidence level is 99%, so the significance level is \\( \\alpha = 0.01 \\).\n",
    "2. The z-critical value is found using the standard normal distribution.\n",
    "3. The margin of error is calculated as \\( z_{crit} \\times \\frac{\\sigma}{\\sqrt{n}} \\), where \\( \\sigma \\) is the population standard deviation.\n",
    "4. The confidence interval is then given by:  \n",
    "   \\( \\left( \\bar{x} - \\text{margin of error}, \\bar{x} + \\text{margin of error} \\right) \\)\n"
   ]
  },
  {
   "cell_type": "markdown",
   "id": "693bf8ed-5f97-457e-a5ac-01a98088d101",
   "metadata": {},
   "source": [
    "## Summary"
   ]
  },
  {
   "cell_type": "code",
   "execution_count": null,
   "id": "6249d087-ffac-415f-8d9f-764df30aee78",
   "metadata": {},
   "outputs": [],
   "source": [
    "Let's summarize the results in terms of both confidence intervals:\n",
    "\n",
    "- Confidence Interval using sample standard deviation (t-distribution).\n",
    "- Confidence Interval using population standard deviation (z-distribution).\n"
   ]
  }
 ],
 "metadata": {
  "kernelspec": {
   "display_name": "Python 3 (ipykernel)",
   "language": "python",
   "name": "python3"
  },
  "language_info": {
   "codemirror_mode": {
    "name": "ipython",
    "version": 3
   },
   "file_extension": ".py",
   "mimetype": "text/x-python",
   "name": "python",
   "nbconvert_exporter": "python",
   "pygments_lexer": "ipython3",
   "version": "3.12.4"
  }
 },
 "nbformat": 4,
 "nbformat_minor": 5
}
