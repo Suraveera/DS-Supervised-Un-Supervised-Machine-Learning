{
  "nbformat": 4,
  "nbformat_minor": 0,
  "metadata": {
    "colab": {
      "provenance": []
    },
    "kernelspec": {
      "name": "python3",
      "display_name": "Python 3"
    },
    "language_info": {
      "name": "python"
    }
  },
  "cells": [
    {
      "cell_type": "markdown",
      "source": [
        "# Compute the Chi-Square Statistic\n",
        "We will use the contingency table and the Chi-Square formula for independence:\n",
        "\n",
        "#              χ2=∑(0-E)(0-E)/E\n",
        "\n",
        "where:\n",
        "\n",
        "𝑂 is the observed frequency (from the contingency table).\n",
        "\n",
        "𝐸 is the expected frequency under the null hypothesis, which can be calculated as:        \n",
        "#        E= (Row Total)×(Column Total)/Overall Total"
      ],
      "metadata": {
        "id": "9OSh83nyIhL2"
      }
    },
    {
      "cell_type": "markdown",
      "source": [
        "# Determine the Critical Value\n",
        "The degrees of freedom (df) are calculated as:\n",
        "\n",
        "df=(number of rows−1)×(number of columns−1)\n",
        "\n",
        "With a significance level (\n",
        "𝛼\n",
        "α) of 0.05, we can use the Chi-Square distribution table to find the critical value."
      ],
      "metadata": {
        "id": "BR1UbsDmLV2d"
      }
    },
    {
      "cell_type": "markdown",
      "source": [
        "# Make a Decision\n",
        "To make a decision, compare the Chi-Square statistic to the critical value:\n",
        "\n",
        "If the Chi-Square statistic is greater than the critical value, reject the null hypothesis.\n",
        "If the Chi-Square statistic is less than or equal to the critical value, fail to reject the null hypothesis."
      ],
      "metadata": {
        "id": "AD2dSOijMCqa"
      }
    },
    {
      "cell_type": "code",
      "source": [
        "import numpy as np\n",
        "import pandas as pd\n",
        "from scipy.stats import chi2_contingency\n",
        "\n",
        "data = np.array([[50, 70], [80, 100], [60, 90], [30, 50], [20, 50]])\n",
        "df = pd.DataFrame(data,\n",
        "                  index=[\"Very Satisfied\", \"Satisfied\", \"Neutral\", \"Unsatisfied\", \"Very Unsatisfied\"],\n",
        "                  columns=[\"Smart Thermostat\", \"Smart Light\"])\n",
        "\n",
        "# Step 2: Perform the Chi-Square test\n",
        "chi2, p, dof, expected = chi2_contingency(df)\n",
        "\n",
        "# Step 3: Output results\n",
        "print(\"Chi-Square Statistic: \", chi2)\n",
        "print(\"P-Value: \", p)\n",
        "print(\"Degrees of Freedom: \", dof)\n",
        "print(\"\\nExpected Frequencies Table:\")\n",
        "print(pd.DataFrame(expected, index=df.index, columns=df.columns))\n",
        "\n",
        "# Step 4: Decision\n",
        "alpha = 0.05\n",
        "if p < alpha:\n",
        "    print(\"\\nReject the null hypothesis: There is a significant association between device type and customer satisfaction.\")\n",
        "else:\n",
        "    print(\"\\nFail to reject the null hypothesis: There is no significant association between device type and customer satisfaction.\")\n"
      ],
      "metadata": {
        "colab": {
          "base_uri": "https://localhost:8080/"
        },
        "id": "_JUVwrxnLeLR",
        "outputId": "c95382e3-8d26-4fcf-a3c5-df016911e0f1"
      },
      "execution_count": null,
      "outputs": [
        {
          "output_type": "stream",
          "name": "stdout",
          "text": [
            "Chi-Square Statistic:  5.638227513227513\n",
            "P-Value:  0.22784371130697179\n",
            "Degrees of Freedom:  4\n",
            "\n",
            "Expected Frequencies Table:\n",
            "                  Smart Thermostat  Smart Light\n",
            "Very Satisfied                48.0         72.0\n",
            "Satisfied                     72.0        108.0\n",
            "Neutral                       60.0         90.0\n",
            "Unsatisfied                   32.0         48.0\n",
            "Very Unsatisfied              28.0         42.0\n",
            "\n",
            "Fail to reject the null hypothesis: There is no significant association between device type and customer satisfaction.\n"
          ]
        }
      ]
    },
    {
      "cell_type": "markdown",
      "source": [
        "We compare the computed Chi-Square statistic to the critical value. If the Chi-Square statistic is greater than the critical value, we reject the null hypothesis."
      ],
      "metadata": {
        "id": "UNnqENLBMYo0"
      }
    },
    {
      "cell_type": "markdown",
      "source": [
        "# Conclusion\n",
        "### Hypothesis:\n",
        "\n",
        "Null Hypothesis (H0): No association between the type of smart home device and customer satisfaction.\n",
        "\n",
        "Alternative Hypothesis (H1): There is an association between the type of smart home device and customer satisfaction.\n",
        "\n",
        "\n",
        "Chi-Square Statistic:\n",
        "\n",
        " The Chi-Square statistic is calculated based on the observed and expected values, and it was found to be X (will be output in the code).\n",
        "\n",
        "\n",
        "Critical Value:\n",
        "\n",
        "With 4 degrees of freedom and a significance level of 0.05, the critical value is approximately 9.488.\n",
        "\n",
        "\n",
        "Decision:\n",
        "\n",
        " Based on the comparison between the Chi-Square statistic and the critical value, we either reject or fail to reject the null hypothesis."
      ],
      "metadata": {
        "id": "6Lf32nK6Mok0"
      }
    },
    {
      "cell_type": "code",
      "source": [],
      "metadata": {
        "id": "6pRZfy6RMq81"
      },
      "execution_count": null,
      "outputs": []
    },
    {
      "cell_type": "markdown",
      "source": [
        "# Hypothesis test\n",
        "State the Hypotheses\n",
        "We are testing if the actual weekly operating costs are higher than the theoretical costs. This suggests a one-tailed test. The hypotheses are:\n",
        "### H0​:μ≤μ\n",
        "        \n",
        "Null Hypothesis (H₀): The actual mean weekly cost is less than or equal to the theoretical mean cost.      \n",
        "### H1​:μ\\>μ0​\n",
        "\n",
        "Where:\n",
        "*italicized text*\n",
        "μ is the actual mean weekly cost.\n",
        "\n",
        "μ0 is the theoretical mean weekly cost based on the given model.\n"
      ],
      "metadata": {
        "id": "r7nXV2KpQntN"
      }
    },
    {
      "cell_type": "code",
      "source": [],
      "metadata": {
        "id": "vOqB_LuQRy4c"
      },
      "execution_count": 6,
      "outputs": []
    },
    {
      "cell_type": "markdown",
      "source": [
        "# Code to calculate the test statistic"
      ],
      "metadata": {
        "id": "MfKWhhpQTx7J"
      }
    },
    {
      "cell_type": "code",
      "source": [
        "\n",
        "x_bar = 3050\n",
        "mu_0 = 4000\n",
        "sigma = 125\n",
        "n = 25\n",
        "t = (x_bar - mu_0) / (sigma / (n ** 0.5))\n",
        "t\n"
      ],
      "metadata": {
        "colab": {
          "base_uri": "https://localhost:8080/"
        },
        "id": "I52GSSJgT57M",
        "outputId": "ab25681d-b205-408c-9857-989c2550fa06"
      },
      "execution_count": 7,
      "outputs": [
        {
          "output_type": "execute_result",
          "data": {
            "text/plain": [
              "-38.0"
            ]
          },
          "metadata": {},
          "execution_count": 7
        }
      ]
    },
    {
      "cell_type": "markdown",
      "source": [
        "# Determine the Critical Value\n",
        "We are using an alpha level of\n",
        "0.05\n",
        "0.05, which corresponds to the 95% confidence level. For a one-tailed test, we find the critical value from the Z-table.\n",
        "\n",
        "The critical value for a 95% confidence level in a one-tailed Z-test is approximately 1.645"
      ],
      "metadata": {
        "id": "IoYzi9NyUV9E"
      }
    },
    {
      "cell_type": "markdown",
      "source": [
        "# Make a Decision\n",
        "To make the decision, compare the calculated test statistic to the critical value:\n",
        "\n",
        "If the test statistic\n",
        "𝑡\n",
        "t is greater than 1.645, we reject the null hypothesis.\n",
        "Otherwise, we fail to reject the null hypothesis"
      ],
      "metadata": {
        "id": "iQ3fAc83UuIg"
      }
    },
    {
      "cell_type": "code",
      "source": [],
      "metadata": {
        "id": "ZlRZQrUJUxDh"
      },
      "execution_count": 7,
      "outputs": []
    },
    {
      "cell_type": "markdown",
      "source": [
        "# Conclusion\n",
        "Based on the comparison between the test statistic and the critical value, conclude whether there is strong evidence to support the restaurant owners' claim that the weekly operating costs are higher than the model suggests"
      ],
      "metadata": {
        "id": "Zp7IQU4WU5S6"
      }
    },
    {
      "cell_type": "code",
      "source": [],
      "metadata": {
        "id": "Z7ExSd44U84X"
      },
      "execution_count": 7,
      "outputs": []
    }
  ]
}